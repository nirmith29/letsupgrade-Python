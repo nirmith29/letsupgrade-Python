{
 "cells": [
  {
   "cell_type": "markdown",
   "metadata": {},
   "source": [
    "# Day 9 Assignment"
   ]
  },
  {
   "cell_type": "code",
   "execution_count": 1,
   "metadata": {},
   "outputs": [
    {
     "name": "stdout",
     "output_type": "stream",
     "text": [
      "Requirement already satisfied: pylint in c:\\users\\nirmith\\anaconda3\\lib\\site-packages (2.5.3)\n",
      "Requirement already satisfied: mccabe<0.7,>=0.6 in c:\\users\\nirmith\\anaconda3\\lib\\site-packages (from pylint) (0.6.1)\n",
      "Requirement already satisfied: isort<5,>=4.2.5 in c:\\users\\nirmith\\anaconda3\\lib\\site-packages (from pylint) (4.3.21)\n",
      "Requirement already satisfied: astroid<=2.5,>=2.4.0 in c:\\users\\nirmith\\anaconda3\\lib\\site-packages (from pylint) (2.4.2)\n",
      "Requirement already satisfied: colorama; sys_platform == \"win32\" in c:\\users\\nirmith\\anaconda3\\lib\\site-packages (from pylint) (0.4.3)\n",
      "Requirement already satisfied: toml>=0.7.1 in c:\\users\\nirmith\\anaconda3\\lib\\site-packages (from pylint) (0.10.1)\n",
      "Requirement already satisfied: six~=1.12 in c:\\users\\nirmith\\anaconda3\\lib\\site-packages (from astroid<=2.5,>=2.4.0->pylint) (1.15.0)\n",
      "Requirement already satisfied: wrapt~=1.11 in c:\\users\\nirmith\\anaconda3\\lib\\site-packages (from astroid<=2.5,>=2.4.0->pylint) (1.11.2)\n",
      "Requirement already satisfied: lazy-object-proxy==1.4.* in c:\\users\\nirmith\\anaconda3\\lib\\site-packages (from astroid<=2.5,>=2.4.0->pylint) (1.4.3)\n"
     ]
    }
   ],
   "source": [
    "! pip install pylint"
   ]
  },
  {
   "cell_type": "code",
   "execution_count": 8,
   "metadata": {},
   "outputs": [
    {
     "name": "stdout",
     "output_type": "stream",
     "text": [
      "Overwriting prime.py\n"
     ]
    }
   ],
   "source": [
    "%%writefile prime.py\n",
    "'''\n",
    "It is a prime number\n",
    "'''\n",
    "def isprime(num):\n",
    "    '''\n",
    "    It is\n",
    "    '''\n",
    "    if num in (0, 1):\n",
    "        return False\n",
    "    for prime in range(2, num-1):\n",
    "        if num % prime == 0:\n",
    "            return False\n",
    "        return True"
   ]
  },
  {
   "cell_type": "code",
   "execution_count": 9,
   "metadata": {},
   "outputs": [
    {
     "name": "stdout",
     "output_type": "stream",
     "text": [
      "\n",
      "-------------------------------------------------------------------\n",
      "\n",
      "Your code has been rated at 10.00/10 (previous run: 8.57/10, +1.43)\n",
      "\n",
      "\n",
      "\n"
     ]
    }
   ],
   "source": [
    "! pylint prime.py"
   ]
  },
  {
   "cell_type": "code",
   "execution_count": 10,
   "metadata": {},
   "outputs": [
    {
     "data": {
      "text/plain": [
       "True"
      ]
     },
     "execution_count": 10,
     "metadata": {},
     "output_type": "execute_result"
    }
   ],
   "source": [
    "import prime \n",
    "prime.isprime(199)"
   ]
  },
  {
   "cell_type": "markdown",
   "metadata": {},
   "source": [
    "# USING UNIT TEST"
   ]
  },
  {
   "cell_type": "code",
   "execution_count": 12,
   "metadata": {},
   "outputs": [
    {
     "name": "stdout",
     "output_type": "stream",
     "text": [
      "Overwriting newprime.py\n"
     ]
    }
   ],
   "source": [
    "%%writefile newprime.py\n",
    "import unittest\n",
    "import prime\n",
    "\n",
    "\n",
    "class primenumber(unittest.TestCase):\n",
    "    def testprime(self):\n",
    "        number = 32\n",
    "        result = prime.isprime(number)\n",
    "        self.assertEquals(result, False)\n",
    "    def testprimenum(self):\n",
    "        num = 199\n",
    "        res = prime.isprime(num)\n",
    "        self.assertEquals(res, True)\n",
    "        \n",
    "        \n",
    "if __name__==\"__main__\":\n",
    "    unittest.main()"
   ]
  },
  {
   "cell_type": "code",
   "execution_count": 13,
   "metadata": {},
   "outputs": [
    {
     "name": "stderr",
     "output_type": "stream",
     "text": [
      "newprime.py:9: DeprecationWarning: Please use assertEqual instead.\n",
      "  self.assertEquals(result, False)\n",
      "..\n",
      "----------------------------------------------------------------------\n",
      "Ran 2 tests in 0.000s\n",
      "\n",
      "OK\n"
     ]
    }
   ],
   "source": [
    "! python newprime.py"
   ]
  },
  {
   "cell_type": "markdown",
   "metadata": {},
   "source": [
    "# ARMSTRONG USING GENERATOR"
   ]
  },
  {
   "cell_type": "code",
   "execution_count": 15,
   "metadata": {},
   "outputs": [
    {
     "name": "stdout",
     "output_type": "stream",
     "text": [
      "[1, 2, 3, 4, 5, 6, 7, 8, 9, 153, 370, 371, 407]\n"
     ]
    }
   ],
   "source": [
    "lst=list(range(1,1000))\n",
    "def getArmstrongNumGen(lst):\n",
    "    for num in lst:\n",
    "        order=len(str(num))\n",
    "        sum=0\n",
    "        temp=num\n",
    "        while temp>0:\n",
    "            digit = temp%10\n",
    "            sum+=digit**order\n",
    "            temp//=10\n",
    "        if sum==num:\n",
    "            yield num\n",
    "print(list(getArmstrongNumGen(lst)))            \n",
    "            "
   ]
  },
  {
   "cell_type": "code",
   "execution_count": null,
   "metadata": {},
   "outputs": [],
   "source": []
  }
 ],
 "metadata": {
  "kernelspec": {
   "display_name": "Python 3",
   "language": "python",
   "name": "python3"
  },
  "language_info": {
   "codemirror_mode": {
    "name": "ipython",
    "version": 3
   },
   "file_extension": ".py",
   "mimetype": "text/x-python",
   "name": "python",
   "nbconvert_exporter": "python",
   "pygments_lexer": "ipython3",
   "version": "3.8.3"
  }
 },
 "nbformat": 4,
 "nbformat_minor": 4
}
