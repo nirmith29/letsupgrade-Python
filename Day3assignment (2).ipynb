{
 "cells": [
  {
   "cell_type": "markdown",
   "metadata": {},
   "source": [
    "# Question 2"
   ]
  },
  {
   "cell_type": "code",
   "execution_count": 1,
   "metadata": {},
   "outputs": [],
   "source": [
    "# Python program to print all the prime number from 1-200 using range"
   ]
  },
  {
   "cell_type": "code",
   "execution_count": null,
   "metadata": {},
   "outputs": [],
   "source": [
    "start = int(input(\"enter the lower interval:\"))\n",
    "end =int(input(\"enter the upper interval:\"))\n",
    "\n",
    "for num in range(start,end):\n",
    "    if num>1:\n",
    "        for i in range(2,num):\n",
    "            if(num%i)==0:\n",
    "                 break\n",
    "            else:\n",
    "                print(num)\n",
    "            \n",
    "        \n",
    "                "
   ]
  },
  {
   "cell_type": "markdown",
   "metadata": {},
   "source": [
    "# Question 2"
   ]
  },
  {
   "cell_type": "code",
   "execution_count": null,
   "metadata": {},
   "outputs": [],
   "source": [
    "num =int(input(\"enter the value: \"))\n",
    "if num>=0:\n",
    "    if num==1000:\n",
    "        print(\"Safe to land\")\n",
    "    elif num<=5000:\n",
    "            print(\"Bring down to 1000\")\n",
    "    else:\n",
    "         print(\"turn arround\")\n",
    "                "
   ]
  }
 ],
 "metadata": {
  "kernelspec": {
   "display_name": "Python 3",
   "language": "python",
   "name": "python3"
  },
  "language_info": {
   "codemirror_mode": {
    "name": "ipython",
    "version": 3
   },
   "file_extension": ".py",
   "mimetype": "text/x-python",
   "name": "python",
   "nbconvert_exporter": "python",
   "pygments_lexer": "ipython3",
   "version": "3.8.3"
  }
 },
 "nbformat": 4,
 "nbformat_minor": 4
}
